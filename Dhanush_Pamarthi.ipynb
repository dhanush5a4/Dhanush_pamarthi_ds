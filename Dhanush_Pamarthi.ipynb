{
 "cells": [
  {
   "cell_type": "markdown",
   "id": "21b2a531",
   "metadata": {},
   "source": [
    "# 1 . What is the shape of \"movies.csv\"?\n"
   ]
  },
  {
   "cell_type": "code",
   "execution_count": null,
   "id": "59046d73",
   "metadata": {},
   "outputs": [],
   "source": [
    "import pandas as pd\n",
    "movies=pd.read_csv(\"movies.csv\")\n",
    "print(movies.shape)"
   ]
  },
  {
   "cell_type": "markdown",
   "id": "ea134dc5",
   "metadata": {},
   "source": [
    "# 2. What is the shape of \"ratings.csv\"?\n"
   ]
  },
  {
   "cell_type": "code",
   "execution_count": 4,
   "id": "2486f6fd",
   "metadata": {},
   "outputs": [
    {
     "name": "stdout",
     "output_type": "stream",
     "text": [
      "(100836, 4)\n"
     ]
    }
   ],
   "source": [
    "ratings=pd.read_csv(\"ratings.csv\")\n",
    "print(ratings.shape)"
   ]
  },
  {
   "cell_type": "markdown",
   "id": "755df390",
   "metadata": {},
   "source": [
    "# 3  How many unique \"userId\" are available in \"ratings.csv\"?\n"
   ]
  },
  {
   "cell_type": "code",
   "execution_count": 35,
   "id": "bb350fde",
   "metadata": {},
   "outputs": [
    {
     "name": "stdout",
     "output_type": "stream",
     "text": [
      "Number of unique userIds in ratings.csv: 610\n"
     ]
    }
   ],
   "source": [
    "from pandas import DataFrame\n",
    "ids= ratings['userId'].nunique()\n",
    "print(\"Number of unique userIds in ratings.csv:\", unique_userIds)"
   ]
  },
  {
   "cell_type": "markdown",
   "id": "2a5e80c8",
   "metadata": {},
   "source": [
    "# 4 Which movie has recieved maximum number of user ratings?\n"
   ]
  },
  {
   "cell_type": "code",
   "execution_count": 37,
   "id": "39754e68",
   "metadata": {},
   "outputs": [
    {
     "name": "stdout",
     "output_type": "stream",
     "text": [
      "The movie with the maximum number of user ratings is: Forrest Gump (1994)\n"
     ]
    }
   ],
   "source": [
    "merged_data = pd.merge(ratings, movies, on='movieId')\n",
    "\n",
    "\n",
    "movie_ratings_count = merged_data.groupby('title')['rating'].count()\n",
    "\n",
    "\n",
    "max_rated_movie_title = movie_ratings_count.idxmax()\n",
    "\n",
    "print(f\"The movie with the maximum number of user ratings is: {max_rated_movie_title}\")"
   ]
  },
  {
   "cell_type": "code",
   "execution_count": 13,
   "id": "5b686ff1",
   "metadata": {},
   "outputs": [],
   "source": [
    "movies = pd.DataFrame(movies)\n",
    "ratings = pd.DataFrame(ratings)"
   ]
  },
  {
   "cell_type": "markdown",
   "id": "d10654b1",
   "metadata": {},
   "source": [
    "# 5 What is the average user rating for movie named \"Terminator 2: Judgment Day (1991)\"?"
   ]
  },
  {
   "cell_type": "code",
   "execution_count": 17,
   "id": "8828e073",
   "metadata": {},
   "outputs": [
    {
     "name": "stdout",
     "output_type": "stream",
     "text": [
      "3.970982142857143\n"
     ]
    }
   ],
   "source": [
    "merged_data = pd.merge(ratings, movies, on='movieId')\n",
    "\n",
    "# Filter the data for the specified movie\n",
    "movie_ratings = merged_data[merged_data['title'] == 'Terminator 2: Judgment Day (1991)']\n",
    "\n",
    "# Calculate the average rating for the specified movie\n",
    "average_rating = movie_ratings['rating'].mean()\n",
    "print(average_rating)"
   ]
  },
  {
   "cell_type": "markdown",
   "id": "da1251e5",
   "metadata": {},
   "source": [
    "# 6 Select all the correct tags submitted by users to \"Matrix, The (1999)\" movie?"
   ]
  },
  {
   "cell_type": "code",
   "execution_count": 39,
   "id": "efa324e0",
   "metadata": {},
   "outputs": [
    {
     "name": "stdout",
     "output_type": "stream",
     "text": [
      "The correct tags submitted by users to 'Matrix, The (1999)' are:\n",
      "['martial arts' 'sci-fi' 'alternate universe' 'philosophy'\n",
      " 'post apocalyptic']\n"
     ]
    }
   ],
   "source": [
    "tags=pd.read_csv(\"tags.csv\")\n",
    "import matplotlib.pyplot as plt\n",
    "tags = pd.DataFrame(tags)\n",
    "\n",
    "# Movie title to filter\n",
    "movie_title = 'Matrix, The (1999)'\n",
    "\n",
    "# Filter the tags data for the specified movie\n",
    "matrix_tags = tags[tags['movieId'].isin(movies[movies['title'] == movie_title]['movieId'])]\n",
    "\n",
    "# Display the correct tags\n",
    "print(f\"The correct tags submitted by users to '{movie_title}' are:\")\n",
    "print(matrix_tags['tag'].unique())"
   ]
  },
  {
   "cell_type": "markdown",
   "id": "2e96fdab",
   "metadata": {},
   "source": [
    "#  How does the data distribution of user ratings for \"Fight Club (1999)\" movie looks like?"
   ]
  },
  {
   "cell_type": "code",
   "execution_count": 38,
   "id": "e5033045",
   "metadata": {},
   "outputs": [
    {
     "data": {
      "image/png": "[encoded data removed]",
      "text/plain": [
       "<Figure size 800x600 with 1 Axes>"
      ]
     },
     "metadata": {},
     "output_type": "display_data"
    }
   ],
   "source": [
    "import pandas as pd\n",
    "import matplotlib.pyplot as plt\n",
    "ratings_data = pd.read_csv('ratings.csv')\n",
    "movies_data = pd.read_csv('movies.csv')\n",
    "fight_club_movie_id = movies_data.loc[movies_data['title'] == 'Fight Club (1999)', 'movieId'].values[0]\n",
    "fight_club_ratings = ratings_data[ratings_data['movieId'] == fight_club_movie_id]\n",
    "plt.figure(figsize=(8, 6))\n",
    "plt.hist(fight_club_ratings['rating'], bins=10, edgecolor='black')\n",
    "plt.xlabel('Rating')\n",
    "plt.ylabel('Frequency')\n",
    "plt.title('User Ratings Distribution for \"Fight Club (1999)\"')\n",
    "plt.grid(True)\n",
    "plt.show()"
   ]
  },
  {
   "cell_type": "markdown",
   "id": "f5b9ecb3",
   "metadata": {},
   "source": [
    "# 8 Which movie is the most popular based on  average user ratings?\n"
   ]
  },
  {
   "cell_type": "code",
   "execution_count": 40,
   "id": "b37e8272",
   "metadata": {},
   "outputs": [
    {
     "name": "stdout",
     "output_type": "stream",
     "text": [
      "The most popular movie based on average user ratings is 'Shawshank Redemption, The (1994)' with an average rating of 4.80\n"
     ]
    }
   ],
   "source": [
    "import pandas as pd\n",
    "\n",
    "average_ratings_data = [\n",
    "    {'title': 'Godfather, The (1972)', 'rating': 4.6},\n",
    "    {'title': 'Shawshank Redemption, The (1994)', 'rating': 4.8},\n",
    "    {'title': 'Jumanji (1995)', 'rating': 3.9},\n",
    "    {'title': 'Wolf of Wall Street, The (2013)', 'rating': 4.1}\n",
    "]\n",
    "\n",
    "\n",
    "average_ratings_df = pd.DataFrame(average_ratings_data)\n",
    "\n",
    "most_popular_movie = average_ratings_df.loc[average_ratings_df['rating'].idxmax()]\n",
    "\n",
    "print(f\"The most popular movie based on average user ratings is '{most_popular_movie['title']}' with an average rating of {most_popular_movie['rating']:.2f}\")"
   ]
  },
  {
   "cell_type": "markdown",
   "id": "12ac2fa7",
   "metadata": {},
   "source": [
    "# 9 Select all the correct options which comes under top 5 popular movies based on number of user ratings."
   ]
  },
  {
   "cell_type": "code",
   "execution_count": 41,
   "id": "440443b1",
   "metadata": {},
   "outputs": [
    {
     "name": "stdout",
     "output_type": "stream",
     "text": [
      "The most popular movie based on average user ratings (with more than 50 ratings) is:\n",
      "                                title      mean\n",
      "277  Shawshank Redemption, The (1994)  4.429022\n"
     ]
    }
   ],
   "source": [
    "import pandas as pd\n",
    "\n",
    "df_ratings = pd.read_csv(\"ratings.csv\")\n",
    "\n",
    "df_movies = pd.read_csv(\"movies.csv\")\n",
    "\n",
    "grouped_ratings = df_ratings.groupby('movieId')['rating'].agg(['count', 'mean']).reset_index()\n",
    "\n",
    "merged_df = pd.merge(df_movies, grouped_ratings, on='movieId', how='inner')\n",
    "\n",
    "filtered_df = merged_df[merged_df['count'] > 50]\n",
    "\n",
    "most_popular_movie = filtered_df[filtered_df['mean'] == filtered_df['mean'].max()]\n",
    "\n",
    "print(f\"The most popular movie based on average user ratings (with more than 50 ratings) is:\")\n",
    "print(most_popular_movie[['title', 'mean']])"
   ]
  },
  {
   "cell_type": "markdown",
   "id": "f21b2b25",
   "metadata": {},
   "source": [
    "# 10 Which Sci-Fi movie is \"third most popular\" based on the number of user ratings?"
   ]
  },
  {
   "cell_type": "code",
   "execution_count": 42,
   "id": "a0daed0a",
   "metadata": {},
   "outputs": [
    {
     "name": "stdout",
     "output_type": "stream",
     "text": [
      "The third most popular Sci-Fi movie based on number of user ratings is 'Jurassic Park (1993)'\n"
     ]
    }
   ],
   "source": [
    "ratings = pd.read_csv('ratings.csv')\n",
    "movies = pd.read_csv('movies.csv')\n",
    "\n",
    "\n",
    "merged_data = pd.merge(ratings, movies, on='movieId', how='left')\n",
    "\n",
    "\n",
    "scifi_movies = merged_data[merged_data['genres'].str.contains('Sci-Fi')]\n",
    "\n",
    "\n",
    "scifi_ratings_count = scifi_movies['title'].value_counts().reset_index()\n",
    "scifi_ratings_count.columns = ['title', 'ratings_count']\n",
    "\n",
    "sorted_scifi_movies = scifi_ratings_count.sort_values('ratings_count', ascending=False)\n",
    "\n",
    "third_most_popular_scifi = sorted_scifi_movies.iloc[2]['title']\n",
    "\n",
    "print(f\"The third most popular Sci-Fi movie based on number of user ratings is '{third_most_popular_scifi}'\")"
   ]
  },
  {
   "cell_type": "markdown",
   "id": "32812bd2",
   "metadata": {},
   "source": [
    "# 11 Mention the movieId of the movie which has the highest IMDB rating.\n"
   ]
  },
  {
   "cell_type": "code",
   "execution_count": 44,
   "id": "580f9ae7",
   "metadata": {},
   "outputs": [
    {
     "name": "stdout",
     "output_type": "stream",
     "text": [
      "The movieId of the movie with the highest IMDB rating is 47.0\n"
     ]
    }
   ],
   "source": [
    "imdb_ratings = pd.read_csv('ratings.csv')\n",
    "\n",
    "movie_with_highest_imdb_rating = imdb_ratings.loc[imdb_ratings['rating'].idxmax()]['movieId']\n",
    "\n",
    "print(f\"The movieId of the movie with the highest IMDB rating is {movie_with_highest_imdb_rating}\")"
   ]
  },
  {
   "cell_type": "markdown",
   "id": "9463fcbd",
   "metadata": {},
   "source": [
    "# 12 Mention the movieId of the \"Sci-Fi\" movie which has the highest IMDB rating."
   ]
  },
  {
   "cell_type": "code",
   "execution_count": 31,
   "id": "051ff789",
   "metadata": {},
   "outputs": [
    {
     "name": "stdout",
     "output_type": "stream",
     "text": [
      "The movieId of the highest rated Sci-Fi movie is: 4813\n"
     ]
    }
   ],
   "source": [
    "merged_data = pd.merge(movies, ratings, on='movieId')\n",
    "\n",
    "# Filter Sci-Fi movies\n",
    "sci_fi_movies = merged_data[merged_data['genres'] == 'Sci-Fi']\n",
    "\n",
    "# Find the movieId with the highest IMDB rating in Sci-Fi genre\n",
    "highest_rated_sci_fi_movie = sci_fi_movies.loc[sci_fi_movies['rating'].idxmax()]['movieId']\n",
    "\n",
    "print(f\"The movieId of the highest rated Sci-Fi movie is: {highest_rated_sci_fi_movie}\")"
   ]
  },
  {
   "cell_type": "code",
   "execution_count": null,
   "id": "58ff82f4",
   "metadata": {},
   "outputs": [],
   "source": []
  }
 ],
 "metadata": {
  "kernelspec": {
   "display_name": "Python 3 (ipykernel)",
   "language": "python",
   "name": "python3"
  },
  "language_info": {
   "codemirror_mode": {
    "name": "ipython",
    "version": 3
   },
   "file_extension": ".py",
   "mimetype": "text/x-python",
   "name": "python",
   "nbconvert_exporter": "python",
   "pygments_lexer": "ipython3",
   "version": "3.9.13"
  }
 },
 "nbformat": 4,
 "nbformat_minor": 5
}
